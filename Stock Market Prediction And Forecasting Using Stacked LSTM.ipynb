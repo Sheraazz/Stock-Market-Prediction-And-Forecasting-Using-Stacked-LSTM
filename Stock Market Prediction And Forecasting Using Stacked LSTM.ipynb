{
 "cells": [
  {
   "cell_type": "markdown",
   "id": "3e0f4daf",
   "metadata": {},
   "source": [
    "# SHERAZ AHMAD"
   ]
  },
  {
   "cell_type": "markdown",
   "id": "56aa77b4",
   "metadata": {},
   "source": [
    "# TASK : 2 Stock Market Prediction And Forecasting Using Stacked LSTM"
   ]
  },
  {
   "cell_type": "markdown",
   "id": "27cb9972",
   "metadata": {},
   "source": [
    "# INTERNSHIP MONTH: AUGUST"
   ]
  },
  {
   "cell_type": "markdown",
   "id": "57ac9bff",
   "metadata": {},
   "source": [
    "## Step 1: Import Libraries"
   ]
  },
  {
   "cell_type": "code",
   "execution_count": 2,
   "id": "8f2b1647",
   "metadata": {},
   "outputs": [],
   "source": [
    "import pandas as pd\n",
    "import numpy as np\n",
    "import matplotlib.pyplot as plt\n",
    "from sklearn.preprocessing import MinMaxScaler\n",
    "from tensorflow.keras.models import Sequential\n",
    "from tensorflow.keras.layers import Dense\n",
    "from tensorflow.keras.layers import LSTM\n",
    "import tensorflow as tf"
   ]
  },
  {
   "cell_type": "markdown",
   "id": "0ab39460",
   "metadata": {},
   "source": [
    "## Step 2: Data Preprocessing"
   ]
  },
  {
   "cell_type": "code",
   "execution_count": 3,
   "id": "2b28efaa",
   "metadata": {},
   "outputs": [],
   "source": [
    "df=pd.read_csv('text.csv')"
   ]
  },
  {
   "cell_type": "code",
   "execution_count": 4,
   "id": "4dd6d877",
   "metadata": {},
   "outputs": [
    {
     "data": {
      "text/html": [
       "<div>\n",
       "<style scoped>\n",
       "    .dataframe tbody tr th:only-of-type {\n",
       "        vertical-align: middle;\n",
       "    }\n",
       "\n",
       "    .dataframe tbody tr th {\n",
       "        vertical-align: top;\n",
       "    }\n",
       "\n",
       "    .dataframe thead th {\n",
       "        text-align: right;\n",
       "    }\n",
       "</style>\n",
       "<table border=\"1\" class=\"dataframe\">\n",
       "  <thead>\n",
       "    <tr style=\"text-align: right;\">\n",
       "      <th></th>\n",
       "      <th>Date</th>\n",
       "      <th>Open</th>\n",
       "      <th>High</th>\n",
       "      <th>Low</th>\n",
       "      <th>Last</th>\n",
       "      <th>Close</th>\n",
       "      <th>Total Trade Quantity</th>\n",
       "      <th>Turnover (Lacs)</th>\n",
       "    </tr>\n",
       "  </thead>\n",
       "  <tbody>\n",
       "    <tr>\n",
       "      <th>0</th>\n",
       "      <td>2018-09-28</td>\n",
       "      <td>234.05</td>\n",
       "      <td>235.95</td>\n",
       "      <td>230.20</td>\n",
       "      <td>233.50</td>\n",
       "      <td>233.75</td>\n",
       "      <td>3069914</td>\n",
       "      <td>7162.35</td>\n",
       "    </tr>\n",
       "    <tr>\n",
       "      <th>1</th>\n",
       "      <td>2018-09-27</td>\n",
       "      <td>234.55</td>\n",
       "      <td>236.80</td>\n",
       "      <td>231.10</td>\n",
       "      <td>233.80</td>\n",
       "      <td>233.25</td>\n",
       "      <td>5082859</td>\n",
       "      <td>11859.95</td>\n",
       "    </tr>\n",
       "    <tr>\n",
       "      <th>2</th>\n",
       "      <td>2018-09-26</td>\n",
       "      <td>240.00</td>\n",
       "      <td>240.00</td>\n",
       "      <td>232.50</td>\n",
       "      <td>235.00</td>\n",
       "      <td>234.25</td>\n",
       "      <td>2240909</td>\n",
       "      <td>5248.60</td>\n",
       "    </tr>\n",
       "    <tr>\n",
       "      <th>3</th>\n",
       "      <td>2018-09-25</td>\n",
       "      <td>233.30</td>\n",
       "      <td>236.75</td>\n",
       "      <td>232.00</td>\n",
       "      <td>236.25</td>\n",
       "      <td>236.10</td>\n",
       "      <td>2349368</td>\n",
       "      <td>5503.90</td>\n",
       "    </tr>\n",
       "    <tr>\n",
       "      <th>4</th>\n",
       "      <td>2018-09-24</td>\n",
       "      <td>233.55</td>\n",
       "      <td>239.20</td>\n",
       "      <td>230.75</td>\n",
       "      <td>234.00</td>\n",
       "      <td>233.30</td>\n",
       "      <td>3423509</td>\n",
       "      <td>7999.55</td>\n",
       "    </tr>\n",
       "    <tr>\n",
       "      <th>...</th>\n",
       "      <td>...</td>\n",
       "      <td>...</td>\n",
       "      <td>...</td>\n",
       "      <td>...</td>\n",
       "      <td>...</td>\n",
       "      <td>...</td>\n",
       "      <td>...</td>\n",
       "      <td>...</td>\n",
       "    </tr>\n",
       "    <tr>\n",
       "      <th>2030</th>\n",
       "      <td>2010-07-27</td>\n",
       "      <td>117.60</td>\n",
       "      <td>119.50</td>\n",
       "      <td>112.00</td>\n",
       "      <td>118.80</td>\n",
       "      <td>118.65</td>\n",
       "      <td>586100</td>\n",
       "      <td>694.98</td>\n",
       "    </tr>\n",
       "    <tr>\n",
       "      <th>2031</th>\n",
       "      <td>2010-07-26</td>\n",
       "      <td>120.10</td>\n",
       "      <td>121.00</td>\n",
       "      <td>117.10</td>\n",
       "      <td>117.10</td>\n",
       "      <td>117.60</td>\n",
       "      <td>658440</td>\n",
       "      <td>780.01</td>\n",
       "    </tr>\n",
       "    <tr>\n",
       "      <th>2032</th>\n",
       "      <td>2010-07-23</td>\n",
       "      <td>121.80</td>\n",
       "      <td>121.95</td>\n",
       "      <td>120.25</td>\n",
       "      <td>120.35</td>\n",
       "      <td>120.65</td>\n",
       "      <td>281312</td>\n",
       "      <td>340.31</td>\n",
       "    </tr>\n",
       "    <tr>\n",
       "      <th>2033</th>\n",
       "      <td>2010-07-22</td>\n",
       "      <td>120.30</td>\n",
       "      <td>122.00</td>\n",
       "      <td>120.25</td>\n",
       "      <td>120.75</td>\n",
       "      <td>120.90</td>\n",
       "      <td>293312</td>\n",
       "      <td>355.17</td>\n",
       "    </tr>\n",
       "    <tr>\n",
       "      <th>2034</th>\n",
       "      <td>2010-07-21</td>\n",
       "      <td>122.10</td>\n",
       "      <td>123.00</td>\n",
       "      <td>121.05</td>\n",
       "      <td>121.10</td>\n",
       "      <td>121.55</td>\n",
       "      <td>658666</td>\n",
       "      <td>803.56</td>\n",
       "    </tr>\n",
       "  </tbody>\n",
       "</table>\n",
       "<p>2035 rows × 8 columns</p>\n",
       "</div>"
      ],
      "text/plain": [
       "            Date    Open    High     Low    Last   Close  \\\n",
       "0     2018-09-28  234.05  235.95  230.20  233.50  233.75   \n",
       "1     2018-09-27  234.55  236.80  231.10  233.80  233.25   \n",
       "2     2018-09-26  240.00  240.00  232.50  235.00  234.25   \n",
       "3     2018-09-25  233.30  236.75  232.00  236.25  236.10   \n",
       "4     2018-09-24  233.55  239.20  230.75  234.00  233.30   \n",
       "...          ...     ...     ...     ...     ...     ...   \n",
       "2030  2010-07-27  117.60  119.50  112.00  118.80  118.65   \n",
       "2031  2010-07-26  120.10  121.00  117.10  117.10  117.60   \n",
       "2032  2010-07-23  121.80  121.95  120.25  120.35  120.65   \n",
       "2033  2010-07-22  120.30  122.00  120.25  120.75  120.90   \n",
       "2034  2010-07-21  122.10  123.00  121.05  121.10  121.55   \n",
       "\n",
       "      Total Trade Quantity  Turnover (Lacs)  \n",
       "0                  3069914          7162.35  \n",
       "1                  5082859         11859.95  \n",
       "2                  2240909          5248.60  \n",
       "3                  2349368          5503.90  \n",
       "4                  3423509          7999.55  \n",
       "...                    ...              ...  \n",
       "2030                586100           694.98  \n",
       "2031                658440           780.01  \n",
       "2032                281312           340.31  \n",
       "2033                293312           355.17  \n",
       "2034                658666           803.56  \n",
       "\n",
       "[2035 rows x 8 columns]"
      ]
     },
     "execution_count": 4,
     "metadata": {},
     "output_type": "execute_result"
    }
   ],
   "source": [
    "df"
   ]
  },
  {
   "cell_type": "code",
   "execution_count": 5,
   "id": "9d9c97a6",
   "metadata": {},
   "outputs": [
    {
     "data": {
      "image/png": "[encoded data removed]",
      "text/plain": [
       "<Figure size 1296x648 with 1 Axes>"
      ]
     },
     "metadata": {
      "needs_background": "light"
     },
     "output_type": "display_data"
    }
   ],
   "source": [
    "plt.figure(figsize = (18,9))\n",
    "plt.plot(range(df.shape[0]),(df['Low']+df['High'])/2.0)\n",
    "plt.xticks(range(0,df.shape[0],500),df['Date'].loc[::500],rotation=45)\n",
    "plt.xlabel('Date',fontsize=18)\n",
    "plt.ylabel('Mid Price',fontsize=18)\n",
    "plt.show()"
   ]
  },
  {
   "cell_type": "code",
   "execution_count": 50,
   "id": "4b6c8a3f",
   "metadata": {},
   "outputs": [],
   "source": [
    "# Filter the Close prices\n",
    "data = df.reset_index()['Close']"
   ]
  },
  {
   "cell_type": "code",
   "execution_count": 52,
   "id": "b0fff066",
   "metadata": {},
   "outputs": [
    {
     "data": {
      "text/plain": [
       "array([[0.62418301],\n",
       "       [0.62214052],\n",
       "       [0.62622549],\n",
       "       ...,\n",
       "       [0.1621732 ],\n",
       "       [0.16319444],\n",
       "       [0.16584967]])"
      ]
     },
     "execution_count": 52,
     "metadata": {},
     "output_type": "execute_result"
    }
   ],
   "source": [
    "data"
   ]
  },
  {
   "cell_type": "code",
   "execution_count": 53,
   "id": "227bce51",
   "metadata": {},
   "outputs": [],
   "source": [
    "# Normalize the data\n",
    "scaler = MinMaxScaler(feature_range=(0,1))\n",
    "data = scaler.fit_transform(np.array(data).reshape(-1,1))"
   ]
  },
  {
   "cell_type": "code",
   "execution_count": 54,
   "id": "3fd789a4",
   "metadata": {},
   "outputs": [],
   "source": [
    "# Splitting dataset into train and test split\n",
    "training_size=int(len(data)*0.65)\n",
    "test_size=len(data)-training_size\n",
    "train_data,test_data=data[0:training_size,:],data[training_size:len(data),:1]"
   ]
  },
  {
   "cell_type": "code",
   "execution_count": 56,
   "id": "49749448",
   "metadata": {},
   "outputs": [],
   "source": [
    "# Convert an array of values into a dataset matrix\n",
    "def create_dataset(dataset, time_step=1):\n",
    "    dataX, dataY = [], []\n",
    "    for i in range(len(dataset)-time_step-1):\n",
    "        a = dataset[i:(i+time_step), 0]   ###i=0, 0,1,2,3-----99   100 \n",
    "        dataX.append(a)\n",
    "        dataY.append(dataset[i + time_step, 0])\n",
    "    return np.array(dataX), np.array(dataY)"
   ]
  },
  {
   "cell_type": "code",
   "execution_count": 57,
   "id": "79009350",
   "metadata": {},
   "outputs": [],
   "source": [
    "# Reshape into X=t,t+1,t+2,t+3 and Y=t+4\n",
    "time_step = 100\n",
    "X_train, y_train = create_dataset(train_data, time_step)\n",
    "X_test, ytest = create_dataset(test_data, time_step)"
   ]
  },
  {
   "cell_type": "code",
   "execution_count": 58,
   "id": "ff7ce8e7",
   "metadata": {},
   "outputs": [],
   "source": [
    "# Reshape input to be [samples, time steps, features] which is required for LSTM\n",
    "X_train =X_train.reshape(X_train.shape[0],X_train.shape[1] , 1)\n",
    "X_test = X_test.reshape(X_test.shape[0],X_test.shape[1] , 1)"
   ]
  },
  {
   "cell_type": "markdown",
   "id": "5bee20c3",
   "metadata": {},
   "source": [
    "## Step 3: Model Building"
   ]
  },
  {
   "cell_type": "code",
   "execution_count": 60,
   "id": "da16f7f8",
   "metadata": {},
   "outputs": [
    {
     "name": "stdout",
     "output_type": "stream",
     "text": [
      "Model: \"sequential_1\"\n",
      "_________________________________________________________________\n",
      " Layer (type)                Output Shape              Param #   \n",
      "=================================================================\n",
      " lstm_3 (LSTM)               (None, 100, 50)           10400     \n",
      "                                                                 \n",
      " lstm_4 (LSTM)               (None, 100, 50)           20200     \n",
      "                                                                 \n",
      " lstm_5 (LSTM)               (None, 50)                20200     \n",
      "                                                                 \n",
      " dense_1 (Dense)             (None, 1)                 51        \n",
      "                                                                 \n",
      "=================================================================\n",
      "Total params: 50,851\n",
      "Trainable params: 50,851\n",
      "Non-trainable params: 0\n",
      "_________________________________________________________________\n"
     ]
    }
   ],
   "source": [
    "# The LSTM architecture\n",
    "model=Sequential()\n",
    "model.add(LSTM(50,return_sequences=True,input_shape=(100,1)))\n",
    "model.add(LSTM(50,return_sequences=True))\n",
    "model.add(LSTM(50))\n",
    "model.add(Dense(1))\n",
    "model.compile(loss='mean_squared_error',optimizer='adam')\n",
    "model.summary()"
   ]
  },
  {
   "cell_type": "markdown",
   "id": "80282ec5",
   "metadata": {},
   "source": [
    "## Step 4: Model Training"
   ]
  },
  {
   "cell_type": "code",
   "execution_count": 61,
   "id": "b2cfdb3c",
   "metadata": {},
   "outputs": [
    {
     "name": "stdout",
     "output_type": "stream",
     "text": [
      "Epoch 1/100\n",
      "20/20 [==============================] - 9s 249ms/step - loss: 0.0380 - val_loss: 0.0038\n",
      "Epoch 2/100\n",
      "20/20 [==============================] - 4s 194ms/step - loss: 0.0041 - val_loss: 0.0016\n",
      "Epoch 3/100\n",
      "20/20 [==============================] - 4s 195ms/step - loss: 0.0020 - val_loss: 0.0013\n",
      "Epoch 4/100\n",
      "20/20 [==============================] - 4s 198ms/step - loss: 0.0016 - val_loss: 0.0011\n",
      "Epoch 5/100\n",
      "20/20 [==============================] - 4s 197ms/step - loss: 0.0016 - val_loss: 0.0013\n",
      "Epoch 6/100\n",
      "20/20 [==============================] - 4s 196ms/step - loss: 0.0014 - val_loss: 0.0011\n",
      "Epoch 7/100\n",
      "20/20 [==============================] - 4s 191ms/step - loss: 0.0014 - val_loss: 0.0014\n",
      "Epoch 8/100\n",
      "20/20 [==============================] - 4s 187ms/step - loss: 0.0014 - val_loss: 9.3522e-04\n",
      "Epoch 9/100\n",
      "20/20 [==============================] - 4s 183ms/step - loss: 0.0013 - val_loss: 0.0014\n",
      "Epoch 10/100\n",
      "20/20 [==============================] - 4s 180ms/step - loss: 0.0014 - val_loss: 0.0010\n",
      "Epoch 11/100\n",
      "20/20 [==============================] - 4s 179ms/step - loss: 0.0012 - val_loss: 0.0011\n",
      "Epoch 12/100\n",
      "20/20 [==============================] - 4s 183ms/step - loss: 0.0012 - val_loss: 0.0012\n",
      "Epoch 13/100\n",
      "20/20 [==============================] - 4s 181ms/step - loss: 0.0012 - val_loss: 8.1011e-04\n",
      "Epoch 14/100\n",
      "20/20 [==============================] - 4s 179ms/step - loss: 0.0013 - val_loss: 7.0679e-04\n",
      "Epoch 15/100\n",
      "20/20 [==============================] - 4s 189ms/step - loss: 0.0013 - val_loss: 8.1091e-04\n",
      "Epoch 16/100\n",
      "20/20 [==============================] - 4s 180ms/step - loss: 0.0011 - val_loss: 9.3510e-04\n",
      "Epoch 17/100\n",
      "20/20 [==============================] - 4s 182ms/step - loss: 9.9503e-04 - val_loss: 9.3044e-04\n",
      "Epoch 18/100\n",
      "20/20 [==============================] - 4s 183ms/step - loss: 0.0010 - val_loss: 8.6326e-04\n",
      "Epoch 19/100\n",
      "20/20 [==============================] - 4s 181ms/step - loss: 9.6164e-04 - val_loss: 0.0011\n",
      "Epoch 20/100\n",
      "20/20 [==============================] - 4s 183ms/step - loss: 9.9111e-04 - val_loss: 9.8383e-04\n",
      "Epoch 21/100\n",
      "20/20 [==============================] - 4s 181ms/step - loss: 9.6170e-04 - val_loss: 7.9787e-04\n",
      "Epoch 22/100\n",
      "20/20 [==============================] - 4s 185ms/step - loss: 8.0499e-04 - val_loss: 6.7241e-04\n",
      "Epoch 23/100\n",
      "20/20 [==============================] - 4s 182ms/step - loss: 8.9043e-04 - val_loss: 6.7897e-04\n",
      "Epoch 24/100\n",
      "20/20 [==============================] - 4s 182ms/step - loss: 8.8696e-04 - val_loss: 7.2576e-04\n",
      "Epoch 25/100\n",
      "20/20 [==============================] - 4s 184ms/step - loss: 7.6697e-04 - val_loss: 9.2771e-04\n",
      "Epoch 26/100\n",
      "20/20 [==============================] - 4s 184ms/step - loss: 8.5919e-04 - val_loss: 0.0011\n",
      "Epoch 27/100\n",
      "20/20 [==============================] - 4s 181ms/step - loss: 7.7044e-04 - val_loss: 7.7655e-04\n",
      "Epoch 28/100\n",
      "20/20 [==============================] - 4s 181ms/step - loss: 7.4436e-04 - val_loss: 7.9126e-04\n",
      "Epoch 29/100\n",
      "20/20 [==============================] - 4s 184ms/step - loss: 7.3422e-04 - val_loss: 6.8830e-04\n",
      "Epoch 30/100\n",
      "20/20 [==============================] - 4s 185ms/step - loss: 6.8193e-04 - val_loss: 6.8531e-04\n",
      "Epoch 31/100\n",
      "20/20 [==============================] - 4s 190ms/step - loss: 7.2036e-04 - val_loss: 7.5288e-04\n",
      "Epoch 32/100\n",
      "20/20 [==============================] - 4s 184ms/step - loss: 6.4511e-04 - val_loss: 7.0586e-04\n",
      "Epoch 33/100\n",
      "20/20 [==============================] - 4s 186ms/step - loss: 6.6993e-04 - val_loss: 7.5267e-04\n",
      "Epoch 34/100\n",
      "20/20 [==============================] - 4s 183ms/step - loss: 6.5302e-04 - val_loss: 7.5840e-04\n",
      "Epoch 35/100\n",
      "20/20 [==============================] - 4s 184ms/step - loss: 6.1960e-04 - val_loss: 6.4476e-04\n",
      "Epoch 36/100\n",
      "20/20 [==============================] - 4s 184ms/step - loss: 7.0467e-04 - val_loss: 7.2928e-04\n",
      "Epoch 37/100\n",
      "20/20 [==============================] - 4s 183ms/step - loss: 6.2442e-04 - val_loss: 7.8745e-04\n",
      "Epoch 38/100\n",
      "20/20 [==============================] - 4s 190ms/step - loss: 6.0374e-04 - val_loss: 8.0468e-04\n",
      "Epoch 39/100\n",
      "20/20 [==============================] - 4s 186ms/step - loss: 6.2948e-04 - val_loss: 9.5455e-04\n",
      "Epoch 40/100\n",
      "20/20 [==============================] - 4s 184ms/step - loss: 6.0165e-04 - val_loss: 6.0971e-04\n",
      "Epoch 41/100\n",
      "20/20 [==============================] - 4s 182ms/step - loss: 6.6436e-04 - val_loss: 9.1614e-04\n",
      "Epoch 42/100\n",
      "20/20 [==============================] - 4s 181ms/step - loss: 6.9497e-04 - val_loss: 6.6115e-04\n",
      "Epoch 43/100\n",
      "20/20 [==============================] - 4s 181ms/step - loss: 5.3486e-04 - val_loss: 5.4490e-04\n",
      "Epoch 44/100\n",
      "20/20 [==============================] - 4s 181ms/step - loss: 5.2315e-04 - val_loss: 4.9862e-04\n",
      "Epoch 45/100\n",
      "20/20 [==============================] - 4s 182ms/step - loss: 7.2674e-04 - val_loss: 8.6527e-04\n",
      "Epoch 46/100\n",
      "20/20 [==============================] - 4s 188ms/step - loss: 5.6578e-04 - val_loss: 5.9802e-04\n",
      "Epoch 47/100\n",
      "20/20 [==============================] - 4s 191ms/step - loss: 6.4288e-04 - val_loss: 5.3131e-04\n",
      "Epoch 48/100\n",
      "20/20 [==============================] - 4s 186ms/step - loss: 5.0867e-04 - val_loss: 5.2518e-04\n",
      "Epoch 49/100\n",
      "20/20 [==============================] - 4s 192ms/step - loss: 5.4574e-04 - val_loss: 6.1807e-04\n",
      "Epoch 50/100\n",
      "20/20 [==============================] - 4s 184ms/step - loss: 5.0242e-04 - val_loss: 7.2969e-04\n",
      "Epoch 51/100\n",
      "20/20 [==============================] - 4s 186ms/step - loss: 4.7325e-04 - val_loss: 5.8302e-04\n",
      "Epoch 52/100\n",
      "20/20 [==============================] - 4s 185ms/step - loss: 4.5943e-04 - val_loss: 4.7487e-04\n",
      "Epoch 53/100\n",
      "20/20 [==============================] - 4s 191ms/step - loss: 4.4732e-04 - val_loss: 6.0033e-04\n",
      "Epoch 54/100\n",
      "20/20 [==============================] - 4s 189ms/step - loss: 5.5883e-04 - val_loss: 4.3373e-04\n",
      "Epoch 55/100\n",
      "20/20 [==============================] - 4s 190ms/step - loss: 4.8849e-04 - val_loss: 5.7976e-04\n",
      "Epoch 56/100\n",
      "20/20 [==============================] - 4s 185ms/step - loss: 4.3299e-04 - val_loss: 4.9232e-04\n",
      "Epoch 57/100\n",
      "20/20 [==============================] - 4s 190ms/step - loss: 4.3564e-04 - val_loss: 4.3824e-04\n",
      "Epoch 58/100\n",
      "20/20 [==============================] - 4s 189ms/step - loss: 4.9035e-04 - val_loss: 3.8864e-04\n",
      "Epoch 59/100\n",
      "20/20 [==============================] - 4s 185ms/step - loss: 4.4268e-04 - val_loss: 4.0591e-04\n",
      "Epoch 60/100\n",
      "20/20 [==============================] - 4s 183ms/step - loss: 3.8780e-04 - val_loss: 5.0725e-04\n",
      "Epoch 61/100\n",
      "20/20 [==============================] - 4s 187ms/step - loss: 4.4058e-04 - val_loss: 3.6440e-04\n",
      "Epoch 62/100\n",
      "20/20 [==============================] - 4s 186ms/step - loss: 3.9296e-04 - val_loss: 3.9318e-04\n",
      "Epoch 63/100\n",
      "20/20 [==============================] - 4s 193ms/step - loss: 3.9809e-04 - val_loss: 4.3067e-04\n",
      "Epoch 64/100\n",
      "20/20 [==============================] - 4s 186ms/step - loss: 4.1540e-04 - val_loss: 3.1993e-04\n",
      "Epoch 65/100\n",
      "20/20 [==============================] - 4s 187ms/step - loss: 5.1963e-04 - val_loss: 4.6954e-04\n",
      "Epoch 66/100\n",
      "20/20 [==============================] - 4s 188ms/step - loss: 3.9670e-04 - val_loss: 3.5500e-04\n",
      "Epoch 67/100\n",
      "20/20 [==============================] - 4s 184ms/step - loss: 4.7165e-04 - val_loss: 3.7640e-04\n",
      "Epoch 68/100\n",
      "20/20 [==============================] - 4s 188ms/step - loss: 3.6772e-04 - val_loss: 5.1266e-04\n",
      "Epoch 69/100\n",
      "20/20 [==============================] - 4s 188ms/step - loss: 3.8937e-04 - val_loss: 4.3432e-04\n",
      "Epoch 70/100\n",
      "20/20 [==============================] - 4s 188ms/step - loss: 3.6024e-04 - val_loss: 4.3672e-04\n",
      "Epoch 71/100\n",
      "20/20 [==============================] - 4s 188ms/step - loss: 4.0576e-04 - val_loss: 3.4097e-04\n",
      "Epoch 72/100\n",
      "20/20 [==============================] - 4s 185ms/step - loss: 3.3393e-04 - val_loss: 3.3471e-04\n",
      "Epoch 73/100\n",
      "20/20 [==============================] - 4s 185ms/step - loss: 3.7132e-04 - val_loss: 3.2965e-04\n",
      "Epoch 74/100\n",
      "20/20 [==============================] - 4s 186ms/step - loss: 3.4356e-04 - val_loss: 5.8707e-04\n",
      "Epoch 75/100\n",
      "20/20 [==============================] - 4s 186ms/step - loss: 7.0098e-04 - val_loss: 2.9645e-04\n",
      "Epoch 76/100\n",
      "20/20 [==============================] - 4s 188ms/step - loss: 5.8828e-04 - val_loss: 3.2659e-04\n",
      "Epoch 77/100\n",
      "20/20 [==============================] - 4s 188ms/step - loss: 3.8321e-04 - val_loss: 3.1022e-04\n",
      "Epoch 78/100\n",
      "20/20 [==============================] - 4s 202ms/step - loss: 2.9822e-04 - val_loss: 2.8602e-04\n",
      "Epoch 79/100\n",
      "20/20 [==============================] - 4s 196ms/step - loss: 2.8987e-04 - val_loss: 2.9035e-04\n",
      "Epoch 80/100\n",
      "20/20 [==============================] - 4s 189ms/step - loss: 2.8951e-04 - val_loss: 2.6620e-04\n",
      "Epoch 81/100\n",
      "20/20 [==============================] - 4s 185ms/step - loss: 3.2810e-04 - val_loss: 3.2406e-04\n",
      "Epoch 82/100\n",
      "20/20 [==============================] - 4s 183ms/step - loss: 3.2148e-04 - val_loss: 2.6820e-04\n",
      "Epoch 83/100\n",
      "20/20 [==============================] - 4s 186ms/step - loss: 2.7866e-04 - val_loss: 2.8792e-04\n",
      "Epoch 84/100\n",
      "20/20 [==============================] - 4s 186ms/step - loss: 2.6124e-04 - val_loss: 2.5786e-04\n",
      "Epoch 85/100\n",
      "20/20 [==============================] - 4s 183ms/step - loss: 2.6565e-04 - val_loss: 2.5356e-04\n",
      "Epoch 86/100\n",
      "20/20 [==============================] - 4s 187ms/step - loss: 2.9420e-04 - val_loss: 2.3278e-04\n",
      "Epoch 87/100\n",
      "20/20 [==============================] - 4s 186ms/step - loss: 3.4033e-04 - val_loss: 2.8555e-04\n",
      "Epoch 88/100\n",
      "20/20 [==============================] - 4s 184ms/step - loss: 3.1363e-04 - val_loss: 2.5041e-04\n",
      "Epoch 89/100\n",
      "20/20 [==============================] - 4s 184ms/step - loss: 3.3403e-04 - val_loss: 2.5936e-04\n",
      "Epoch 90/100\n",
      "20/20 [==============================] - 4s 187ms/step - loss: 4.4790e-04 - val_loss: 2.9107e-04\n",
      "Epoch 91/100\n",
      "20/20 [==============================] - 4s 183ms/step - loss: 2.6081e-04 - val_loss: 2.6231e-04\n",
      "Epoch 92/100\n",
      "20/20 [==============================] - 4s 184ms/step - loss: 2.4685e-04 - val_loss: 2.2710e-04\n",
      "Epoch 93/100\n",
      "20/20 [==============================] - 4s 184ms/step - loss: 2.5160e-04 - val_loss: 4.0048e-04\n",
      "Epoch 94/100\n",
      "20/20 [==============================] - 4s 181ms/step - loss: 3.2643e-04 - val_loss: 2.4376e-04\n",
      "Epoch 95/100\n",
      "20/20 [==============================] - 4s 185ms/step - loss: 3.4748e-04 - val_loss: 4.4537e-04\n",
      "Epoch 96/100\n",
      "20/20 [==============================] - 4s 185ms/step - loss: 3.3492e-04 - val_loss: 2.2230e-04\n",
      "Epoch 97/100\n",
      "20/20 [==============================] - 4s 183ms/step - loss: 2.6294e-04 - val_loss: 2.4727e-04\n",
      "Epoch 98/100\n",
      "20/20 [==============================] - 4s 191ms/step - loss: 2.3446e-04 - val_loss: 2.3075e-04\n",
      "Epoch 99/100\n",
      "20/20 [==============================] - 4s 183ms/step - loss: 2.3870e-04 - val_loss: 2.5790e-04\n",
      "Epoch 100/100\n",
      "20/20 [==============================] - 4s 185ms/step - loss: 2.4765e-04 - val_loss: 2.4437e-04\n"
     ]
    },
    {
     "data": {
      "text/plain": [
       "<keras.callbacks.History at 0x19eb6343e50>"
      ]
     },
     "execution_count": 61,
     "metadata": {},
     "output_type": "execute_result"
    }
   ],
   "source": [
    "model.fit(X_train, y_train, validation_data=(X_test, ytest), epochs=100, batch_size=64, verbose=1)"
   ]
  },
  {
   "cell_type": "markdown",
   "id": "2a3008ca",
   "metadata": {},
   "source": [
    "## Step 5: Prediction and Performance Metrics"
   ]
  },
  {
   "cell_type": "code",
   "execution_count": 63,
   "id": "8f57c473",
   "metadata": {},
   "outputs": [
    {
     "name": "stdout",
     "output_type": "stream",
     "text": [
      "39/39 [==============================] - 3s 47ms/step\n",
      "20/20 [==============================] - 1s 50ms/step\n"
     ]
    }
   ],
   "source": [
    "train_predict=model.predict(X_train)\n",
    "test_predict=model.predict(X_test)"
   ]
  },
  {
   "cell_type": "code",
   "execution_count": 64,
   "id": "3355923d",
   "metadata": {},
   "outputs": [],
   "source": [
    "# Transform back to original form\n",
    "train_predict=scaler.inverse_transform(train_predict)\n",
    "test_predict=scaler.inverse_transform(test_predict)"
   ]
  },
  {
   "cell_type": "code",
   "execution_count": 65,
   "id": "031892a8",
   "metadata": {},
   "outputs": [
    {
     "data": {
      "text/plain": [
       "0.027746326981784006"
      ]
     },
     "execution_count": 65,
     "metadata": {},
     "output_type": "execute_result"
    }
   ],
   "source": [
    "# Calculate RMSE performance metrics\n",
    "import math\n",
    "from sklearn.metrics import mean_squared_error\n",
    "math.sqrt(mean_squared_error(y_train,train_predict))"
   ]
  },
  {
   "cell_type": "code",
   "execution_count": 66,
   "id": "f0d0adb9",
   "metadata": {},
   "outputs": [
    {
     "data": {
      "text/plain": [
       "0.015632191761477975"
      ]
     },
     "execution_count": 66,
     "metadata": {},
     "output_type": "execute_result"
    }
   ],
   "source": [
    "# Test Data RMSE\n",
    "math.sqrt(mean_squared_error(ytest,test_predict))"
   ]
  },
  {
   "cell_type": "markdown",
   "id": "1c7c2104",
   "metadata": {},
   "source": [
    "## Step 6: Plotting the Output"
   ]
  },
  {
   "cell_type": "code",
   "execution_count": 68,
   "id": "1d56b4a2",
   "metadata": {},
   "outputs": [],
   "source": [
    "# Shift train predictions for plotting\n",
    "look_back=100\n",
    "trainPredictPlot = np.empty_like(data)\n",
    "trainPredictPlot[:, :] = np.nan\n",
    "trainPredictPlot[look_back:len(train_predict)+look_back, :] = train_predict"
   ]
  },
  {
   "cell_type": "code",
   "execution_count": 69,
   "id": "674d8434",
   "metadata": {},
   "outputs": [],
   "source": [
    "# Shift test predictions for plotting\n",
    "testPredictPlot = np.empty_like(data)\n",
    "testPredictPlot[:, :]= np.nan\n",
    "testPredictPlot[len(train_predict)+(look_back*2)+1:len(data)-1, :] = test_predict"
   ]
  },
  {
   "cell_type": "code",
   "execution_count": 70,
   "id": "080549f9",
   "metadata": {},
   "outputs": [
    {
     "data": {
      "image/png": "[encoded data removed]",
      "text/plain": [
       "<Figure size 432x288 with 1 Axes>"
      ]
     },
     "metadata": {
      "needs_background": "light"
     },
     "output_type": "display_data"
    }
   ],
   "source": [
    "# Plot baseline and predictions\n",
    "plt.plot(scaler.inverse_transform(data))\n",
    "plt.plot(trainPredictPlot)\n",
    "plt.plot(testPredictPlot)\n",
    "plt.show()"
   ]
  }
 ],
 "metadata": {
  "kernelspec": {
   "display_name": "Python 3 (ipykernel)",
   "language": "python",
   "name": "python3"
  },
  "language_info": {
   "codemirror_mode": {
    "name": "ipython",
    "version": 3
   },
   "file_extension": ".py",
   "mimetype": "text/x-python",
   "name": "python",
   "nbconvert_exporter": "python",
   "pygments_lexer": "ipython3",
   "version": "3.9.12"
  }
 },
 "nbformat": 4,
 "nbformat_minor": 5
}
